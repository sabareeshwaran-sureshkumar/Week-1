{
  "nbformat": 4,
  "nbformat_minor": 0,
  "metadata": {
    "colab": {
      "provenance": []
    },
    "kernelspec": {
      "name": "python3",
      "display_name": "Python 3"
    },
    "language_info": {
      "name": "python"
    }
  },
  "cells": [
    {
      "cell_type": "code",
      "execution_count": 1,
      "metadata": {
        "colab": {
          "base_uri": "https://localhost:8080/"
        },
        "id": "Jy-r31kaGx6T",
        "outputId": "a4c50353-cd3e-4efa-d7e8-b5bb1ef9580b"
      },
      "outputs": [
        {
          "output_type": "stream",
          "name": "stdout",
          "text": [
            "Requirement already satisfied: nltk in /usr/local/lib/python3.11/dist-packages (3.9.1)\n",
            "Requirement already satisfied: scikit-learn in /usr/local/lib/python3.11/dist-packages (1.6.1)\n",
            "Collecting streamlit\n",
            "  Downloading streamlit-1.42.2-py2.py3-none-any.whl.metadata (8.9 kB)\n",
            "Requirement already satisfied: click in /usr/local/lib/python3.11/dist-packages (from nltk) (8.1.8)\n",
            "Requirement already satisfied: joblib in /usr/local/lib/python3.11/dist-packages (from nltk) (1.4.2)\n",
            "Requirement already satisfied: regex>=2021.8.3 in /usr/local/lib/python3.11/dist-packages (from nltk) (2024.11.6)\n",
            "Requirement already satisfied: tqdm in /usr/local/lib/python3.11/dist-packages (from nltk) (4.67.1)\n",
            "Requirement already satisfied: numpy>=1.19.5 in /usr/local/lib/python3.11/dist-packages (from scikit-learn) (1.26.4)\n",
            "Requirement already satisfied: scipy>=1.6.0 in /usr/local/lib/python3.11/dist-packages (from scikit-learn) (1.13.1)\n",
            "Requirement already satisfied: threadpoolctl>=3.1.0 in /usr/local/lib/python3.11/dist-packages (from scikit-learn) (3.5.0)\n",
            "Requirement already satisfied: altair<6,>=4.0 in /usr/local/lib/python3.11/dist-packages (from streamlit) (5.5.0)\n",
            "Requirement already satisfied: blinker<2,>=1.0.0 in /usr/local/lib/python3.11/dist-packages (from streamlit) (1.9.0)\n",
            "Requirement already satisfied: cachetools<6,>=4.0 in /usr/local/lib/python3.11/dist-packages (from streamlit) (5.5.2)\n",
            "Requirement already satisfied: packaging<25,>=20 in /usr/local/lib/python3.11/dist-packages (from streamlit) (24.2)\n",
            "Requirement already satisfied: pandas<3,>=1.4.0 in /usr/local/lib/python3.11/dist-packages (from streamlit) (2.2.2)\n",
            "Requirement already satisfied: pillow<12,>=7.1.0 in /usr/local/lib/python3.11/dist-packages (from streamlit) (11.1.0)\n",
            "Requirement already satisfied: protobuf<6,>=3.20 in /usr/local/lib/python3.11/dist-packages (from streamlit) (4.25.6)\n",
            "Requirement already satisfied: pyarrow>=7.0 in /usr/local/lib/python3.11/dist-packages (from streamlit) (18.1.0)\n",
            "Requirement already satisfied: requests<3,>=2.27 in /usr/local/lib/python3.11/dist-packages (from streamlit) (2.32.3)\n",
            "Requirement already satisfied: rich<14,>=10.14.0 in /usr/local/lib/python3.11/dist-packages (from streamlit) (13.9.4)\n",
            "Requirement already satisfied: tenacity<10,>=8.1.0 in /usr/local/lib/python3.11/dist-packages (from streamlit) (9.0.0)\n",
            "Requirement already satisfied: toml<2,>=0.10.1 in /usr/local/lib/python3.11/dist-packages (from streamlit) (0.10.2)\n",
            "Requirement already satisfied: typing-extensions<5,>=4.4.0 in /usr/local/lib/python3.11/dist-packages (from streamlit) (4.12.2)\n",
            "Collecting watchdog<7,>=2.1.5 (from streamlit)\n",
            "  Downloading watchdog-6.0.0-py3-none-manylinux2014_x86_64.whl.metadata (44 kB)\n",
            "\u001b[2K     \u001b[90m━━━━━━━━━━━━━━━━━━━━━━━━━━━━━━━━━━━━━━━━\u001b[0m \u001b[32m44.3/44.3 kB\u001b[0m \u001b[31m502.7 kB/s\u001b[0m eta \u001b[36m0:00:00\u001b[0m\n",
            "\u001b[?25hRequirement already satisfied: gitpython!=3.1.19,<4,>=3.0.7 in /usr/local/lib/python3.11/dist-packages (from streamlit) (3.1.44)\n",
            "Collecting pydeck<1,>=0.8.0b4 (from streamlit)\n",
            "  Downloading pydeck-0.9.1-py2.py3-none-any.whl.metadata (4.1 kB)\n",
            "Requirement already satisfied: tornado<7,>=6.0.3 in /usr/local/lib/python3.11/dist-packages (from streamlit) (6.4.2)\n",
            "Requirement already satisfied: jinja2 in /usr/local/lib/python3.11/dist-packages (from altair<6,>=4.0->streamlit) (3.1.5)\n",
            "Requirement already satisfied: jsonschema>=3.0 in /usr/local/lib/python3.11/dist-packages (from altair<6,>=4.0->streamlit) (4.23.0)\n",
            "Requirement already satisfied: narwhals>=1.14.2 in /usr/local/lib/python3.11/dist-packages (from altair<6,>=4.0->streamlit) (1.27.1)\n",
            "Requirement already satisfied: gitdb<5,>=4.0.1 in /usr/local/lib/python3.11/dist-packages (from gitpython!=3.1.19,<4,>=3.0.7->streamlit) (4.0.12)\n",
            "Requirement already satisfied: python-dateutil>=2.8.2 in /usr/local/lib/python3.11/dist-packages (from pandas<3,>=1.4.0->streamlit) (2.8.2)\n",
            "Requirement already satisfied: pytz>=2020.1 in /usr/local/lib/python3.11/dist-packages (from pandas<3,>=1.4.0->streamlit) (2025.1)\n",
            "Requirement already satisfied: tzdata>=2022.7 in /usr/local/lib/python3.11/dist-packages (from pandas<3,>=1.4.0->streamlit) (2025.1)\n",
            "Requirement already satisfied: charset-normalizer<4,>=2 in /usr/local/lib/python3.11/dist-packages (from requests<3,>=2.27->streamlit) (3.4.1)\n",
            "Requirement already satisfied: idna<4,>=2.5 in /usr/local/lib/python3.11/dist-packages (from requests<3,>=2.27->streamlit) (3.10)\n",
            "Requirement already satisfied: urllib3<3,>=1.21.1 in /usr/local/lib/python3.11/dist-packages (from requests<3,>=2.27->streamlit) (2.3.0)\n",
            "Requirement already satisfied: certifi>=2017.4.17 in /usr/local/lib/python3.11/dist-packages (from requests<3,>=2.27->streamlit) (2025.1.31)\n",
            "Requirement already satisfied: markdown-it-py>=2.2.0 in /usr/local/lib/python3.11/dist-packages (from rich<14,>=10.14.0->streamlit) (3.0.0)\n",
            "Requirement already satisfied: pygments<3.0.0,>=2.13.0 in /usr/local/lib/python3.11/dist-packages (from rich<14,>=10.14.0->streamlit) (2.18.0)\n",
            "Requirement already satisfied: smmap<6,>=3.0.1 in /usr/local/lib/python3.11/dist-packages (from gitdb<5,>=4.0.1->gitpython!=3.1.19,<4,>=3.0.7->streamlit) (5.0.2)\n",
            "Requirement already satisfied: MarkupSafe>=2.0 in /usr/local/lib/python3.11/dist-packages (from jinja2->altair<6,>=4.0->streamlit) (3.0.2)\n",
            "Requirement already satisfied: attrs>=22.2.0 in /usr/local/lib/python3.11/dist-packages (from jsonschema>=3.0->altair<6,>=4.0->streamlit) (25.1.0)\n",
            "Requirement already satisfied: jsonschema-specifications>=2023.03.6 in /usr/local/lib/python3.11/dist-packages (from jsonschema>=3.0->altair<6,>=4.0->streamlit) (2024.10.1)\n",
            "Requirement already satisfied: referencing>=0.28.4 in /usr/local/lib/python3.11/dist-packages (from jsonschema>=3.0->altair<6,>=4.0->streamlit) (0.36.2)\n",
            "Requirement already satisfied: rpds-py>=0.7.1 in /usr/local/lib/python3.11/dist-packages (from jsonschema>=3.0->altair<6,>=4.0->streamlit) (0.23.0)\n",
            "Requirement already satisfied: mdurl~=0.1 in /usr/local/lib/python3.11/dist-packages (from markdown-it-py>=2.2.0->rich<14,>=10.14.0->streamlit) (0.1.2)\n",
            "Requirement already satisfied: six>=1.5 in /usr/local/lib/python3.11/dist-packages (from python-dateutil>=2.8.2->pandas<3,>=1.4.0->streamlit) (1.17.0)\n",
            "Downloading streamlit-1.42.2-py2.py3-none-any.whl (9.6 MB)\n",
            "\u001b[2K   \u001b[90m━━━━━━━━━━━━━━━━━━━━━━━━━━━━━━━━━━━━━━━━\u001b[0m \u001b[32m9.6/9.6 MB\u001b[0m \u001b[31m27.1 MB/s\u001b[0m eta \u001b[36m0:00:00\u001b[0m\n",
            "\u001b[?25hDownloading pydeck-0.9.1-py2.py3-none-any.whl (6.9 MB)\n",
            "\u001b[2K   \u001b[90m━━━━━━━━━━━━━━━━━━━━━━━━━━━━━━━━━━━━━━━━\u001b[0m \u001b[32m6.9/6.9 MB\u001b[0m \u001b[31m26.3 MB/s\u001b[0m eta \u001b[36m0:00:00\u001b[0m\n",
            "\u001b[?25hDownloading watchdog-6.0.0-py3-none-manylinux2014_x86_64.whl (79 kB)\n",
            "\u001b[2K   \u001b[90m━━━━━━━━━━━━━━━━━━━━━━━━━━━━━━━━━━━━━━━━\u001b[0m \u001b[32m79.1/79.1 kB\u001b[0m \u001b[31m4.2 MB/s\u001b[0m eta \u001b[36m0:00:00\u001b[0m\n",
            "\u001b[?25hInstalling collected packages: watchdog, pydeck, streamlit\n",
            "Successfully installed pydeck-0.9.1 streamlit-1.42.2 watchdog-6.0.0\n"
          ]
        }
      ],
      "source": [
        "pip install nltk scikit-learn streamlit\n"
      ]
    },
    {
      "cell_type": "code",
      "source": [
        "import nltk\n",
        "import random\n",
        "import os\n",
        "import ssl\n",
        "import streamlit as st\n",
        "from sklearn.feature_extraction.text import TfidfVectorizer\n",
        "from sklearn.linear_model import LogisticRegression"
      ],
      "metadata": {
        "id": "DfSDw5MyG6Oe"
      },
      "execution_count": 2,
      "outputs": []
    },
    {
      "cell_type": "code",
      "source": [
        "ssl._create_default_https_context = ssl._create_unverified_context\n",
        "nltk.data.path.append(os.path.abspath('nltk_data'))\n",
        "nltk.download('punkt')"
      ],
      "metadata": {
        "colab": {
          "base_uri": "https://localhost:8080/"
        },
        "id": "qQ-g5bo0HRn6",
        "outputId": "81362ec2-6d64-4053-d2a1-6b215cb9828b"
      },
      "execution_count": 3,
      "outputs": [
        {
          "output_type": "stream",
          "name": "stderr",
          "text": [
            "[nltk_data] Downloading package punkt to /root/nltk_data...\n",
            "[nltk_data]   Unzipping tokenizers/punkt.zip.\n"
          ]
        },
        {
          "output_type": "execute_result",
          "data": {
            "text/plain": [
              "True"
            ]
          },
          "metadata": {},
          "execution_count": 3
        }
      ]
    },
    {
      "cell_type": "code",
      "source": [
        "intents = [\n",
        "    {\n",
        "        'tag': 'greeting',\n",
        "        'patterns': ['Hi', 'Hello', 'Hey', 'Good morning', 'Good evening', 'Howdy'],\n",
        "        'responses': ['Hello! How can I assist you today?', 'Hey there!', 'Hi! What can I do for you?', 'Good day!']\n",
        "    },\n",
        "    {\n",
        "        'tag': 'goodbye',\n",
        "        'patterns': ['Bye', 'See you later', 'Goodbye', 'Take care', 'Catch you later'],\n",
        "        'responses': ['Goodbye! Have a great day!', 'See you soon!', 'Take care and stay safe!', 'Catch you later!']\n",
        "    },\n",
        "    {\n",
        "        'tag': 'thanks',\n",
        "        'patterns': ['Thank you', 'Thanks', 'Thanks a lot', 'Much appreciated', 'I appreciate it'],\n",
        "        'responses': ['You\\'re welcome!', 'Happy to help!', 'Glad I could assist!', 'No problem at all!']\n",
        "    },\n",
        "    {\n",
        "        'tag': 'about',\n",
        "        'patterns': ['What can you do?', 'Who are you?', 'Tell me about yourself', 'What is your purpose?'],\n",
        "        'responses': ['I am an AI chatbot created to assist you with various queries.', 'I can answer questions, provide suggestions, and help you with information.', 'I am here to make your life easier with quick and useful answers.']\n",
        "    },\n",
        "    {\n",
        "        'tag': 'help',\n",
        "        'patterns': ['Help', 'I need help', 'Can you help me?', 'I need assistance'],\n",
        "        'responses': ['Of course! What do you need help with?', 'Sure! Please specify your problem.', 'I\\'m here to assist. How can I help?']\n",
        "    },\n",
        "    {\n",
        "        'tag': 'age',\n",
        "        'patterns': ['How old are you?', 'What is your age?', 'When were you created?'],\n",
        "        'responses': ['I don\\'t have an exact age, but I\\'m always learning and improving!', 'I exist in the digital world, so I don\\'t age!', 'Age is just a number, and I don\\'t have one!']\n",
        "    },\n",
        "    {\n",
        "        'tag': 'weather',\n",
        "        'patterns': ['What\\'s the weather like?', 'How is the weather today?', 'Is it going to rain?', 'Tell me the temperature'],\n",
        "        'responses': ['I can’t check real-time weather, but you can use a weather app like AccuWeather!', 'Try checking a weather website for the most accurate forecast.']\n",
        "    },\n",
        "    {\n",
        "        'tag': 'budgeting',\n",
        "        'patterns': ['How to create a budget?', 'Give me budgeting tips', 'How do I manage my money?', 'Ways to save money'],\n",
        "        'responses': [\n",
        "            'Start by tracking your income and expenses, then allocate funds wisely.',\n",
        "            'The 50/30/20 rule is a great budgeting strategy: 50% for needs, 30% for wants, 20% for savings.',\n",
        "            'To manage money well, avoid unnecessary expenses and save consistently.'\n",
        "        ]\n",
        "    },\n",
        "    {\n",
        "        'tag': 'credit_score',\n",
        "        'patterns': ['What is a credit score?', 'How to improve my credit score?', 'Ways to check my credit score'],\n",
        "        'responses': [\n",
        "            'A credit score represents your creditworthiness and is used by lenders to assess you.',\n",
        "            'You can check your credit score through bank websites or platforms like Experian and Credit Karma.',\n",
        "            'To improve your credit score, pay your bills on time, keep your credit usage low, and avoid late payments.'\n",
        "        ]\n",
        "    },\n",
        "    {\n",
        "        'tag': 'loan_information',\n",
        "        'patterns': ['How to apply for a loan?', 'Am I eligible for a loan?', 'What are loan requirements?', 'Can I get a loan with bad credit?'],\n",
        "        'responses': [\n",
        "            'To apply for a loan, check eligibility with your bank or an online lender.',\n",
        "            'Eligibility depends on income, credit history, and financial stability.',\n",
        "            'If you have a low credit score, you may need a guarantor or opt for secured loans.'\n",
        "        ]\n",
        "    },\n",
        "    {\n",
        "        'tag': 'investment_tips',\n",
        "        'patterns': ['How to start investing?', 'Best investment options?', 'Where should I invest my money?'],\n",
        "        'responses': [\n",
        "            'Start investing by learning about stocks, mutual funds, and real estate.',\n",
        "            'Consider low-risk investments like bonds or index funds if you\\'re a beginner.',\n",
        "            'Always diversify your investments to minimize risk!'\n",
        "        ]\n",
        "    },\n",
        "    {\n",
        "        'tag': 'career_advice',\n",
        "        'patterns': ['How to build a career?', 'Career growth tips?', 'How to get a good job?', 'Ways to improve my resume'],\n",
        "        'responses': [\n",
        "            'Build a strong resume, gain relevant skills, and network with professionals in your field.',\n",
        "            'Always keep learning and upskilling to stay ahead in your career.',\n",
        "            'Internships, online courses, and professional networking can boost your job prospects!'\n",
        "        ]\n",
        "    },\n",
        "    {\n",
        "        'tag': 'fitness_tips',\n",
        "        'patterns': ['How to stay fit?', 'Best exercises for weight loss?', 'How to maintain a healthy diet?', 'Give me fitness advice'],\n",
        "        'responses': [\n",
        "            'Consistency is key! Exercise regularly and eat a balanced diet.',\n",
        "            'For weight loss, try a mix of cardio and strength training.',\n",
        "            'A healthy diet includes protein, fiber, and plenty of water while avoiding processed foods.'\n",
        "        ]\n",
        "    }\n",
        "]\n"
      ],
      "metadata": {
        "id": "WhN1YJMmHVN4"
      },
      "execution_count": 4,
      "outputs": []
    },
    {
      "cell_type": "code",
      "source": [],
      "metadata": {
        "id": "RwAWuFGyHeVX"
      },
      "execution_count": null,
      "outputs": []
    }
  ]
}